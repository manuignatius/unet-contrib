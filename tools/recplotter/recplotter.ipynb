{
 "cells": [
  {
   "cell_type": "markdown",
   "metadata": {},
   "source": [
    "# Rec Plotter\n",
    "\n",
    "Plots UnetStack recording files (`rec-*.dat`) in a Jupyter notebook."
   ]
  },
  {
   "cell_type": "code",
   "execution_count": null,
   "metadata": {},
   "outputs": [],
   "source": [
    "import arlpy.plot as plt\n",
    "import numpy as np\n",
    "import struct\n",
    "\n",
    "def read_recording(filename):\n",
    "    # print(\"Reading modem recording from\", filename)\n",
    "    with open(filename, 'rb') as f:\n",
    "        magic = struct.unpack('>Q', f.read(8))[0]\n",
    "        if magic != 0x43c04d126f173001:\n",
    "            print(\"Invalid magic number\")\n",
    "            return None\n",
    "        millis = struct.unpack('<q', f.read(8))[0]\n",
    "        framerate = struct.unpack('<i', f.read(4))[0]\n",
    "        nchannels = struct.unpack('<h', f.read(2))[0]\n",
    "        f.read(2*5) #padding\n",
    "        signal = np.fromfile(f, count=-1, dtype='<f')\n",
    "        # reshape to nchannels x nsamples\n",
    "        signals = signal.reshape((nchannels, -1))\n",
    "        return signals, millis, framerate"
   ]
  },
  {
   "cell_type": "code",
   "execution_count": 5,
   "metadata": {},
   "outputs": [],
   "source": [
    "filename = \"rec-1726124213404.dat\""
   ]
  },
  {
   "cell_type": "code",
   "execution_count": null,
   "metadata": {},
   "outputs": [],
   "source": [
    "signal, ts, fs = read_recording('filename')\n",
    "plt.plot(signal[0], fs=fs, title=f\"{filename}\", width=1200, height=400, xlabel=\"Time (s)\", ylabel=\"Amplitude\", maxpts=len(signal[0]))"
   ]
  }
 ],
 "metadata": {
  "kernelspec": {
   "display_name": "Python 3",
   "language": "python",
   "name": "python3"
  },
  "language_info": {
   "codemirror_mode": {
    "name": "ipython",
    "version": 3
   },
   "file_extension": ".py",
   "mimetype": "text/x-python",
   "name": "python",
   "nbconvert_exporter": "python",
   "pygments_lexer": "ipython3",
   "version": "3.12.4"
  }
 },
 "nbformat": 4,
 "nbformat_minor": 2
}
